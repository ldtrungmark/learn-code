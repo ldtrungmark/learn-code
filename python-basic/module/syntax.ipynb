{
 "cells": [
  {
   "cell_type": "markdown",
   "metadata": {},
   "source": [
    "## Function"
   ]
  },
  {
   "cell_type": "code",
   "execution_count": 56,
   "metadata": {},
   "outputs": [
    {
     "name": "stdout",
     "output_type": "stream",
     "text": [
      "1 Le\n",
      "2 Dinh\n",
      "3 Ha\n"
     ]
    }
   ],
   "source": [
    "# Method: zip\n",
    "list_a = [1,2,3]\n",
    "list_b = [\"Le\",\"Dinh\",\"Ha\",\"K\"]\n",
    "for i,j in zip(list_a,list_b):\n",
    "    print(i,j)"
   ]
  },
  {
   "cell_type": "code",
   "execution_count": 58,
   "metadata": {},
   "outputs": [
    {
     "name": "stdout",
     "output_type": "stream",
     "text": [
      "12\n",
      "[11, 12, 13]\n"
     ]
    }
   ],
   "source": [
    "# Method: lambda function\n",
    "lamb_sum = lambda x : x + 10\n",
    "print(lamb_sum(2))\n",
    "print(list(map(lamb_sum,list_a)))"
   ]
  },
  {
   "cell_type": "markdown",
   "metadata": {},
   "source": [
    "## Class"
   ]
  },
  {
   "cell_type": "code",
   "execution_count": 112,
   "metadata": {},
   "outputs": [],
   "source": [
    "# Class\n",
    "class Person:\n",
    "    mobile = None #Create att default\n",
    "    \n",
    "    # Contructor (Khởi tạo Object)\n",
    "    def __init__(self, name, year_of_birthday) -> None:\n",
    "        self.name = name\n",
    "        self.year_of_birthday = year_of_birthday\n",
    "        self.cal_age()\n",
    "\n",
    "    # Method set attribute mobile\n",
    "    def set_mobile(self, mobile):\n",
    "        self.mobile = mobile\n",
    "\n",
    "    # Method get attribute mobile\n",
    "    def get_mobile(self):\n",
    "        return self.mobile\n",
    "\n",
    "    # Method\n",
    "    def print_infor(self):\n",
    "        print(\"Name:\",self.name)\n",
    "        print(\"Year of birthday:\",self.year_of_birthday)\n",
    "\n",
    "    # Method call age\n",
    "    def cal_age(self):\n",
    "        self.age = 2023 - self.year_of_birthday\n",
    "\n",
    "    @staticmethod\n",
    "    def is_old(age):\n",
    "        if age > 20:\n",
    "            print(f\"Old age is catching up.\")\n",
    "        else:\n",
    "            print(\"Wow, You are still young.\")\n",
    "\n",
    "    @property\n",
    "    def full_infor(self):\n",
    "        return f'Name: {self.name} - YearOfBirthday: {self.year_of_birthday}'\n",
    "\n",
    "trung = Person('Trung',1999) #Create object: trung\n",
    "ha = Person('Ha',2000) #Create object: ha"
   ]
  },
  {
   "cell_type": "code",
   "execution_count": 113,
   "metadata": {},
   "outputs": [
    {
     "name": "stdout",
     "output_type": "stream",
     "text": [
      "Trung\n",
      "Name: Trung - YearOfBirthday: 1999\n",
      "Old age is catching up.\n"
     ]
    }
   ],
   "source": [
    "print(trung.name) #Call attribute Name of obj\n",
    "print(trung.full_infor) #Call function property as attribute of obj\n",
    "trung.is_old(trung.age) #Call static method"
   ]
  },
  {
   "cell_type": "code",
   "execution_count": 114,
   "metadata": {},
   "outputs": [
    {
     "name": "stdout",
     "output_type": "stream",
     "text": [
      "None\n",
      "0342820365\n"
     ]
    }
   ],
   "source": [
    "'''\n",
    "    Object-Oriented Principles (Các nguyên tác trong OOP)\n",
    "'''\n",
    "# Encapsulation: Tính đóng gói\n",
    "print(trung.get_mobile()) \n",
    "trung.set_mobile('0342820365') #Set mobile\n",
    "print(trung.get_mobile())\n",
    "\n",
    "# Inheritance: Tính kế thừa\n",
    "\n",
    "# Polymorphism: Tính đa hình\n"
   ]
  },
  {
   "cell_type": "code",
   "execution_count": null,
   "metadata": {},
   "outputs": [],
   "source": []
  }
 ],
 "metadata": {
  "kernelspec": {
   "display_name": "base",
   "language": "python",
   "name": "python3"
  },
  "language_info": {
   "codemirror_mode": {
    "name": "ipython",
    "version": 3
   },
   "file_extension": ".py",
   "mimetype": "text/x-python",
   "name": "python",
   "nbconvert_exporter": "python",
   "pygments_lexer": "ipython3",
   "version": "3.11.4"
  },
  "orig_nbformat": 4
 },
 "nbformat": 4,
 "nbformat_minor": 2
}
